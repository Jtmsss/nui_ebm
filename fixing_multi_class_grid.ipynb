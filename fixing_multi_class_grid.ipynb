{
 "cells": [
  {
   "cell_type": "code",
   "execution_count": 8,
   "id": "6259f25d",
   "metadata": {},
   "outputs": [],
   "source": [
    "import pandas as pd\n",
    "\n",
    "# 1. Load the CSV\n",
    "df = pd.read_csv(\"multi_class_grid.csv\")"
   ]
  },
  {
   "cell_type": "code",
   "execution_count": 9,
   "id": "4f182839",
   "metadata": {},
   "outputs": [
    {
     "data": {
      "text/plain": [
       "(735158, 117)"
      ]
     },
     "execution_count": 9,
     "metadata": {},
     "output_type": "execute_result"
    }
   ],
   "source": [
    "df.shape"
   ]
  },
  {
   "cell_type": "code",
   "execution_count": 15,
   "id": "22b5e279",
   "metadata": {},
   "outputs": [],
   "source": [
    "# 2. Drop all columns that contain any NaN values\n",
    "df_clean = df.dropna(axis=1).copy()"
   ]
  },
  {
   "cell_type": "code",
   "execution_count": 16,
   "id": "d3a45e6d",
   "metadata": {},
   "outputs": [
    {
     "name": "stdout",
     "output_type": "stream",
     "text": [
      "Original shape: (735158, 117)\n",
      "Cleaned shape: (735158, 41)\n"
     ]
    }
   ],
   "source": [
    "\n",
    "print(\"Original shape:\", df.shape)\n",
    "print(\"Cleaned shape:\", df_clean.shape)"
   ]
  },
  {
   "cell_type": "code",
   "execution_count": 17,
   "id": "e22ed207",
   "metadata": {},
   "outputs": [
    {
     "name": "stdout",
     "output_type": "stream",
     "text": [
      "Unnamed: 0\n",
      "target\n",
      "gid\n",
      "ID\n",
      "UF\n",
      "Col\n",
      "Row\n",
      "Polo\n",
      "Declividade\n",
      "Curvatura\n",
      "APP30m\n",
      "UCIntegral\n",
      "AltaTensao\n",
      "Vias50m\n",
      "IndiceForma\n",
      "DomSRedeEsg\n",
      "DomPosseOutro\n",
      "DomNBanHab\n",
      "AguaRede\n",
      "AguaNascente\n",
      "AguaCisterna\n",
      "AguaOutra\n",
      "EsgotoRede\n",
      "EsgotoSeptica\n",
      "EsgotoRudimentar\n",
      "EsgotoVala\n",
      "EsgotoRio\n",
      "EsgotoOutro\n",
      "LixoLimpeza\n",
      "LixoQueimado\n",
      "LixoAterrado\n",
      "LixoJogado\n",
      "LixoRio\n",
      "LixoOutro\n",
      "LixoCacamba\n",
      "RenResp3SM\n",
      "RenRespMedia\n",
      "NDenDom\n",
      "NDenPop\n",
      "NResp30\n",
      "NResp30NAlf\n"
     ]
    }
   ],
   "source": [
    "for col in df_clean.columns:\n",
    "    print(col)\n"
   ]
  },
  {
   "cell_type": "code",
   "execution_count": 20,
   "id": "9b6c7a82",
   "metadata": {},
   "outputs": [
    {
     "name": "stdout",
     "output_type": "stream",
     "text": [
      "[1 0]\n"
     ]
    }
   ],
   "source": [
    "print(df_clean[\"target\"].unique())"
   ]
  },
  {
   "cell_type": "code",
   "execution_count": 19,
   "id": "c4e0f775",
   "metadata": {},
   "outputs": [],
   "source": [
    "df_clean[\"target\"] = df_clean[\"target\"].apply(lambda x: 0 if x == 0 else 1)\n"
   ]
  },
  {
   "cell_type": "code",
   "execution_count": 21,
   "id": "03d0c02c",
   "metadata": {},
   "outputs": [],
   "source": [
    "df_clean = df_clean.drop(columns=[\"Unnamed: 0\", \"gid\", \"ID\", \"UF\", \"Col\", \"Row\"], errors=\"ignore\")\n"
   ]
  },
  {
   "cell_type": "code",
   "execution_count": 22,
   "id": "90da5d09",
   "metadata": {},
   "outputs": [],
   "source": [
    "# 3. (Optional) Save the cleaned file\n",
    "df_clean.to_csv(\"multi_class_grid_clean.csv\", index=False)"
   ]
  }
 ],
 "metadata": {
  "kernelspec": {
   "display_name": "Python 3",
   "language": "python",
   "name": "python3"
  },
  "language_info": {
   "codemirror_mode": {
    "name": "ipython",
    "version": 3
   },
   "file_extension": ".py",
   "mimetype": "text/x-python",
   "name": "python",
   "nbconvert_exporter": "python",
   "pygments_lexer": "ipython3",
   "version": "3.10.12"
  }
 },
 "nbformat": 4,
 "nbformat_minor": 5
}
