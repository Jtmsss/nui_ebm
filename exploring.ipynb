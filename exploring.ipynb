{
 "cells": [
  {
   "cell_type": "markdown",
   "id": "7dd56457",
   "metadata": {},
   "source": [
    "I'll be exploring the data here using the files in the compacted_data folder"
   ]
  },
  {
   "cell_type": "code",
   "execution_count": 3,
   "id": "9c2370fb",
   "metadata": {},
   "outputs": [],
   "source": [
    "\n",
    "\n",
    "import pandas as pd\n",
    "import numpy as np\n",
    "import matplotlib.pyplot as plt\n",
    "\n",
    "import seaborn as sns\n",
    "#import geopandas as gpd\n",
    "import pickle\n",
    "\n",
    "\n",
    "\n",
    "     \n"
   ]
  },
  {
   "cell_type": "code",
   "execution_count": 4,
   "id": "df0950c5",
   "metadata": {},
   "outputs": [],
   "source": [
    "with open(\"grid.pkl\", \"rb\") as f:\n",
    "    grid = pickle.load(f)"
   ]
  },
  {
   "cell_type": "code",
   "execution_count": 5,
   "id": "0347d364",
   "metadata": {},
   "outputs": [
    {
     "name": "stdout",
     "output_type": "stream",
     "text": [
      "                    gid        ID  UF   Col     Row          Polo  \\\n",
      "0  100ME5208050N7956750  C10L1067  RS  10.0  1067.0  Porto Alegre   \n",
      "1  100ME5208050N7956850  C10L1068  RS  10.0  1068.0  Porto Alegre   \n",
      "2  100ME5208050N7956950  C10L1069  RS  10.0  1069.0  Porto Alegre   \n",
      "3  100ME5208150N7956750  C11L1067  RS  11.0  1067.0  Porto Alegre   \n",
      "4  100ME5208150N7956850  C11L1068  RS  11.0  1068.0  Porto Alegre   \n",
      "\n",
      "   Declividade  Curvatura    APP30m  UCIntegral  ...  t_vulner_mais1h  \\\n",
      "0     4.919002   6.333333  0.000000         0.0  ...              NaN   \n",
      "1     4.900816   1.000000  0.000000         0.0  ...              NaN   \n",
      "2     4.152381   4.666667  0.333333         0.0  ...              NaN   \n",
      "3     3.205212   7.777778  0.000000         0.0  ...              NaN   \n",
      "4     5.218916   4.166667  0.000000         0.0  ...              NaN   \n",
      "\n",
      "   t_renda_trab  t_carteira_18m  t_scarteira_18m  t_setorpublico_18m  \\\n",
      "0           NaN             NaN              NaN                 NaN   \n",
      "1           NaN             NaN              NaN                 NaN   \n",
      "2           NaN             NaN              NaN                 NaN   \n",
      "3           NaN             NaN              NaN                 NaN   \n",
      "4           NaN             NaN              NaN                 NaN   \n",
      "\n",
      "   t_contapropria_18m  t_empregador_18m  t_formal_18m  t_atividade10a15  \\\n",
      "0                 NaN               NaN           NaN               NaN   \n",
      "1                 NaN               NaN           NaN               NaN   \n",
      "2                 NaN               NaN           NaN               NaN   \n",
      "3                 NaN               NaN           NaN               NaN   \n",
      "4                 NaN               NaN           NaN               NaN   \n",
      "\n",
      "                                            geometry  \n",
      "0  POLYGON ((5208000.000 7956700.000, 5208100.000...  \n",
      "1  POLYGON ((5208000.000 7956800.000, 5208100.000...  \n",
      "2  POLYGON ((5208000.000 7956900.000, 5208100.000...  \n",
      "3  POLYGON ((5208100.000 7956700.000, 5208200.000...  \n",
      "4  POLYGON ((5208100.000 7956800.000, 5208200.000...  \n",
      "\n",
      "[5 rows x 116 columns]\n"
     ]
    }
   ],
   "source": [
    "print(grid.head())"
   ]
  }
 ],
 "metadata": {
  "kernelspec": {
   "display_name": "Python 3",
   "language": "python",
   "name": "python3"
  },
  "language_info": {
   "codemirror_mode": {
    "name": "ipython",
    "version": 3
   },
   "file_extension": ".py",
   "mimetype": "text/x-python",
   "name": "python",
   "nbconvert_exporter": "python",
   "pygments_lexer": "ipython3",
   "version": "3.10.12"
  }
 },
 "nbformat": 4,
 "nbformat_minor": 5
}
